{
 "cells": [
  {
   "cell_type": "markdown",
   "metadata": {
    "id": "F_tAtoGQpCbb"
   },
   "source": [
    "### Preparing for work"
   ]
  },
  {
   "cell_type": "code",
   "execution_count": null,
   "metadata": {
    "id": "vHV9r0-tQSZu"
   },
   "outputs": [],
   "source": [
    "import os\n",
    "os.environ['ARCHIVE_NAME']=\"data.tar.gz\"\n",
    "os.environ[\"REPO_FOLDER\"]=\"bel-tts/\"\n",
    "\n",
    "os.environ[\"RUNTIME_ROOT\"]=\"/storage/\"\n",
    "\n",
    "os.environ[\"RUNTIME_DATA_ARCHIVE\"]=os.environ[\"RUNTIME_ROOT\"] + os.environ[\"ARCHIVE_NAME\"]\n",
    "\n",
    "os.environ[\"RUNTIME_REPO\"]=os.environ[\"RUNTIME_ROOT\"] + os.environ[\"REPO_FOLDER\"]"
   ]
  },
  {
   "cell_type": "code",
   "execution_count": null,
   "metadata": {
    "colab": {
     "base_uri": "https://localhost:8080/"
    },
    "id": "R7K8TvP-cHBu",
    "outputId": "2e96c764-6b0c-47a5-a8d4-44a6819d61b7"
   },
   "outputs": [],
   "source": [
    "os.chdir(os.environ[\"RUNTIME_ROOT\"])\n",
    "!gdown 1thgrwRJCpwq6qF9au_CkVcmBQJU7cH72\n",
    "if not os.path.exists(\"be/\"):\n",
    "  os.makedirs(\"be/\")\n",
    "!tar -xzf $ARCHIVE_NAME -C \"be\""
   ]
  },
  {
   "cell_type": "code",
   "execution_count": null,
   "metadata": {
    "colab": {
     "base_uri": "https://localhost:8080/"
    },
    "id": "F2xCqSWnctzQ",
    "outputId": "f44911a3-6a87-4cd5-b8f7-94867fc602fa"
   },
   "outputs": [],
   "source": [
    "os.chdir(os.environ[\"RUNTIME_ROOT\"])\n",
    "!git clone -b main --single-branch https://github.com/jhlfrfufyfn/bel-tts.git"
   ]
  },
  {
   "cell_type": "code",
   "execution_count": null,
   "metadata": {
    "colab": {
     "base_uri": "https://localhost:8080/"
    },
    "id": "XgpHxXLBXOZN",
    "outputId": "1be2b9c3-020c-467a-e33d-5161de6259ac"
   },
   "outputs": [
    {
     "name": "stdout",
     "output_type": "stream",
     "text": [
      "/content/sample_data/bel-tts\n"
     ]
    }
   ],
   "source": [
    "%cd /storage/bel-tts"
   ]
  },
  {
   "cell_type": "code",
   "execution_count": null,
   "metadata": {
    "colab": {
     "base_uri": "https://localhost:8080/"
    },
    "id": "PCOglXXUaDPP",
    "outputId": "01d78a04-de34-45de-d56a-f627e6f610ee"
   },
   "outputs": [],
   "source": [
    "# dependencies\n",
    "!make system-deps\n",
    "# install 🐸 TTS for development.\n",
    "!make install"
   ]
  },
  {
   "cell_type": "code",
   "execution_count": null,
   "metadata": {},
   "outputs": [],
   "source": [
    "if not os.path.exists(\"/storage/output\"):\n",
    "  os.makedirs(\"/storage/output\")"
   ]
  },
  {
   "cell_type": "code",
   "execution_count": null,
   "metadata": {},
   "outputs": [],
   "source": [
    "%cd /storage/output"
   ]
  },
  {
   "cell_type": "code",
   "execution_count": null,
   "metadata": {},
   "outputs": [],
   "source": [
    "import gdown\n",
    "gdown.download_folder('https://drive.google.com/drive/folders/19TZaqnN5WGEiIso16zi7kBy3XEh2kl9o?usp=sharing', quiet=True)"
   ]
  },
  {
   "cell_type": "code",
   "execution_count": null,
   "metadata": {},
   "outputs": [],
   "source": [
    "%cd /storage/bel-tts"
   ]
  },
  {
   "cell_type": "markdown",
   "metadata": {},
   "source": [
    "### Training the model"
   ]
  },
  {
   "cell_type": "code",
   "execution_count": null,
   "metadata": {},
   "outputs": [],
   "source": [
    "!CUDA_VISIBLE_DEVICES=\"0\" python train-hifigan-paperscape.py \\\n",
    "    --continue_path=/storage/output/hifi-training"
   ]
  }
 ],
 "metadata": {
  "language_info": {
   "name": "python"
  },
  "orig_nbformat": 4
 },
 "nbformat": 4,
 "nbformat_minor": 2
}
