{
 "cells": [
  {
   "cell_type": "markdown",
   "metadata": {
    "id": "F_tAtoGQpCbb"
   },
   "source": [
    "### Preparing for work"
   ]
  },
  {
   "cell_type": "code",
   "execution_count": 2,
   "metadata": {
    "execution": {
     "iopub.execute_input": "2022-04-29T22:13:03.111578Z",
     "iopub.status.busy": "2022-04-29T22:13:03.110750Z",
     "iopub.status.idle": "2022-04-29T22:13:03.115182Z",
     "shell.execute_reply": "2022-04-29T22:13:03.114771Z",
     "shell.execute_reply.started": "2022-04-29T22:13:03.111544Z"
    },
    "id": "vHV9r0-tQSZu"
   },
   "outputs": [],
   "source": [
    "import os\n",
    "os.environ['ARCHIVE_NAME']=\"data.tar.gz\"\n",
    "os.environ[\"REPO_FOLDER\"]=\"bel-tts/\"\n",
    "\n",
    "os.environ[\"RUNTIME_ROOT\"]=\"/storage/\"\n",
    "\n",
    "os.environ[\"RUNTIME_DATA_ARCHIVE\"]=os.environ[\"RUNTIME_ROOT\"] + os.environ[\"ARCHIVE_NAME\"]\n",
    "\n",
    "os.environ[\"RUNTIME_REPO\"]=os.environ[\"RUNTIME_ROOT\"] + os.environ[\"REPO_FOLDER\"]"
   ]
  },
  {
   "cell_type": "code",
   "execution_count": null,
   "metadata": {
    "execution": {
     "iopub.execute_input": "2022-04-29T22:13:04.162854Z",
     "iopub.status.busy": "2022-04-29T22:13:04.162321Z",
     "iopub.status.idle": "2022-04-29T22:13:12.750137Z",
     "shell.execute_reply": "2022-04-29T22:13:12.749386Z",
     "shell.execute_reply.started": "2022-04-29T22:13:04.162822Z"
    }
   },
   "outputs": [],
   "source": [
    "%pip install gdown"
   ]
  },
  {
   "cell_type": "code",
   "execution_count": null,
   "metadata": {
    "colab": {
     "base_uri": "https://localhost:8080/"
    },
    "execution": {
     "iopub.execute_input": "2022-04-29T22:29:11.027772Z",
     "iopub.status.busy": "2022-04-29T22:29:11.027522Z",
     "iopub.status.idle": "2022-04-29T22:29:21.953814Z",
     "shell.execute_reply": "2022-04-29T22:29:21.952655Z",
     "shell.execute_reply.started": "2022-04-29T22:29:11.027747Z"
    },
    "id": "F2xCqSWnctzQ",
    "outputId": "f44911a3-6a87-4cd5-b8f7-94867fc602fa"
   },
   "outputs": [],
   "source": [
    "os.chdir(os.environ[\"RUNTIME_ROOT\"])\n",
    "!rm -rf bel-tts\n",
    "!git clone -b main --single-branch https://github.com/jhlfrfufyfn/bel-tts.git"
   ]
  },
  {
   "cell_type": "code",
   "execution_count": 18,
   "metadata": {
    "colab": {
     "base_uri": "https://localhost:8080/"
    },
    "execution": {
     "iopub.execute_input": "2022-04-29T22:29:48.330512Z",
     "iopub.status.busy": "2022-04-29T22:29:48.329760Z",
     "iopub.status.idle": "2022-04-29T22:29:48.337155Z",
     "shell.execute_reply": "2022-04-29T22:29:48.336279Z",
     "shell.execute_reply.started": "2022-04-29T22:29:48.330469Z"
    },
    "id": "XgpHxXLBXOZN",
    "outputId": "1be2b9c3-020c-467a-e33d-5161de6259ac"
   },
   "outputs": [
    {
     "name": "stdout",
     "output_type": "stream",
     "text": [
      "/storage/bel-tts\n"
     ]
    }
   ],
   "source": [
    "%cd /storage/bel-tts"
   ]
  },
  {
   "cell_type": "code",
   "execution_count": null,
   "metadata": {
    "colab": {
     "base_uri": "https://localhost:8080/"
    },
    "execution": {
     "iopub.execute_input": "2022-04-29T22:18:42.974743Z",
     "iopub.status.busy": "2022-04-29T22:18:42.974093Z",
     "iopub.status.idle": "2022-04-29T22:22:11.654113Z",
     "shell.execute_reply": "2022-04-29T22:22:11.653514Z",
     "shell.execute_reply.started": "2022-04-29T22:18:42.974714Z"
    },
    "id": "PCOglXXUaDPP",
    "outputId": "01d78a04-de34-45de-d56a-f627e6f610ee"
   },
   "outputs": [],
   "source": [
    "# dependencies\n",
    "!apt-get install -y libsndfile1-dev\n",
    "# install 🐸 TTS for development.\n",
    "!make install"
   ]
  },
  {
   "cell_type": "markdown",
   "metadata": {},
   "source": [
    "### Training the model"
   ]
  },
  {
   "cell_type": "code",
   "execution_count": null,
   "metadata": {
    "execution": {
     "iopub.execute_input": "2022-04-29T22:25:14.908977Z",
     "iopub.status.busy": "2022-04-29T22:25:14.908717Z",
     "iopub.status.idle": "2022-04-29T22:25:15.517931Z",
     "shell.execute_reply": "2022-04-29T22:25:15.517262Z",
     "shell.execute_reply.started": "2022-04-29T22:25:14.908952Z"
    }
   },
   "outputs": [],
   "source": [
    "!cat /storage/output/hifi-training/config.json"
   ]
  },
  {
   "cell_type": "code",
   "execution_count": null,
   "metadata": {
    "execution": {
     "iopub.execute_input": "2022-04-29T22:29:26.941981Z",
     "iopub.status.busy": "2022-04-29T22:29:26.941375Z",
     "iopub.status.idle": "2022-04-29T22:29:27.551495Z",
     "shell.execute_reply": "2022-04-29T22:29:27.550401Z",
     "shell.execute_reply.started": "2022-04-29T22:29:26.941947Z"
    }
   },
   "outputs": [],
   "source": [
    "!ls /storage/output/hifi-training/"
   ]
  },
  {
   "cell_type": "code",
   "execution_count": null,
   "metadata": {
    "execution": {
     "iopub.execute_input": "2022-04-29T22:38:00.906341Z",
     "iopub.status.busy": "2022-04-29T22:38:00.905630Z"
    }
   },
   "outputs": [],
   "source": [
    "!CUDA_VISIBLE_DEVICES=\"0\" python train-hifigan-paperscape.py \\\n",
    "    --continue_path=/storage/output/hifi-training \\\n",
    "    --coqpit.data_path=/storage/be"
   ]
  }
 ],
 "metadata": {
  "kernelspec": {
   "display_name": "Python 3 (ipykernel)",
   "language": "python",
   "name": "python3"
  },
  "language_info": {
   "codemirror_mode": {
    "name": "ipython",
    "version": 3
   },
   "file_extension": ".py",
   "mimetype": "text/x-python",
   "name": "python",
   "nbconvert_exporter": "python",
   "pygments_lexer": "ipython3",
   "version": "3.8.10"
  }
 },
 "nbformat": 4,
 "nbformat_minor": 4
}
