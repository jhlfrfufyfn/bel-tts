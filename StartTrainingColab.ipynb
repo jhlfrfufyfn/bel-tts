{
 "cells": [
  {
   "cell_type": "markdown",
   "metadata": {
    "id": "F_tAtoGQpCbb"
   },
   "source": [
    "### Preparing for work"
   ]
  },
  {
   "cell_type": "code",
   "execution_count": null,
   "metadata": {
    "colab": {
     "base_uri": "https://localhost:8080/"
    },
    "id": "Qvw1qsh0g5Kr",
    "outputId": "f27a242f-655d-4983-8d92-46e8f5f528a7"
   },
   "outputs": [],
   "source": [
    "from google.colab import drive\n",
    "drive.mount('/content/drive')"
   ]
  },
  {
   "cell_type": "code",
   "execution_count": null,
   "metadata": {
    "id": "vHV9r0-tQSZu"
   },
   "outputs": [],
   "source": [
    "import os\n",
    "os.environ['ARCHIVE_NAME']=\"data.tar.gz\"\n",
    "os.environ[\"REPO_FOLDER\"]=\"bel-tts/\"\n",
    "\n",
    "os.environ['DRIVE_ROOT']=\"/content/drive/MyDrive/\"\n",
    "os.environ[\"RUNTIME_ROOT\"]=\"/content/sample_data/\"\n",
    "\n",
    "os.environ['DRIVE_DATA_ARCHIVE']=os.environ['DRIVE_ROOT'] + os.environ['ARCHIVE_NAME']\n",
    "os.environ[\"RUNTIME_DATA_ARCHIVE\"]=os.environ[\"RUNTIME_ROOT\"] + os.environ[\"ARCHIVE_NAME\"]\n",
    "\n",
    "os.environ[\"RUNTIME_REPO\"]=os.environ[\"RUNTIME_ROOT\"] + os.environ[\"REPO_FOLDER\"]"
   ]
  },
  {
   "cell_type": "code",
   "execution_count": null,
   "metadata": {
    "colab": {
     "base_uri": "https://localhost:8080/"
    },
    "id": "R7K8TvP-cHBu",
    "outputId": "c98a4417-af91-49b4-873d-76df4342c5a7"
   },
   "outputs": [],
   "source": [
    "os.chdir(os.environ[\"RUNTIME_ROOT\"])\n",
    "!gdown 1-D0pfpdfiiZGqdmypRgMEwNGZWhHFECL\n",
    "if not os.path.exists(\"be/\"):\n",
    "  os.makedirs(\"be/\")\n",
    "!tar -xzf $ARCHIVE_NAME -C \"be\""
   ]
  },
  {
   "cell_type": "code",
   "execution_count": null,
   "metadata": {
    "colab": {
     "base_uri": "https://localhost:8080/"
    },
    "id": "F2xCqSWnctzQ",
    "outputId": "8d89f56e-2082-494b-bcef-367e23d46444"
   },
   "outputs": [],
   "source": [
    "os.chdir(os.environ[\"RUNTIME_ROOT\"])\n",
    "!git clone -b main --single-branch https://github.com/jhlfrfufyfn/bel-tts.git"
   ]
  },
  {
   "cell_type": "code",
   "execution_count": null,
   "metadata": {
    "colab": {
     "base_uri": "https://localhost:8080/"
    },
    "id": "XgpHxXLBXOZN",
    "outputId": "023fb5e6-c2bf-4164-cfb4-3d8ab12dfb07"
   },
   "outputs": [],
   "source": [
    "%cd /content/sample_data/bel-tts"
   ]
  },
  {
   "cell_type": "code",
   "execution_count": null,
   "metadata": {
    "colab": {
     "base_uri": "https://localhost:8080/"
    },
    "id": "PCOglXXUaDPP",
    "outputId": "b8d907c5-6052-477e-f393-9f905ae20237"
   },
   "outputs": [],
   "source": [
    "# 4 minutes\n",
    "# dependencies\n",
    "!make system-deps\n",
    "# install 🐸 TTS for development.\n",
    "!make install"
   ]
  },
  {
   "cell_type": "code",
   "execution_count": null,
   "metadata": {
    "colab": {
     "base_uri": "https://localhost:8080/",
     "height": 349
    },
    "id": "q98Al-YcRoIk",
    "outputId": "c4533fee-b020-4bd7-b92f-415ade80d581"
   },
   "outputs": [],
   "source": [
    "!pip install --upgrade numpy"
   ]
  },
  {
   "cell_type": "markdown",
   "metadata": {},
   "source": [
    "### Training the model"
   ]
  },
  {
   "cell_type": "code",
   "execution_count": null,
   "metadata": {},
   "outputs": [],
   "source": [
    "!CUDA_VISIBLE_DEVICES=\"0\" python colab/train-glow.py"
   ]
  }
 ],
 "metadata": {
  "language_info": {
   "name": "python"
  },
  "orig_nbformat": 4
 },
 "nbformat": 4,
 "nbformat_minor": 2
}
