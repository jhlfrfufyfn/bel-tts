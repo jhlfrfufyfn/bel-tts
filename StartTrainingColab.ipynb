{
  "cells": [
    {
      "cell_type": "markdown",
      "metadata": {
        "id": "F_tAtoGQpCbb"
      },
      "source": [
        "### Preparing for work"
      ]
    },
    {
      "cell_type": "code",
      "execution_count": 1,
      "metadata": {
        "colab": {
          "base_uri": "https://localhost:8080/"
        },
        "id": "Qvw1qsh0g5Kr",
        "outputId": "84ffe888-b7cd-4d59-c085-86306a24a513"
      },
      "outputs": [
        {
          "name": "stdout",
          "output_type": "stream",
          "text": [
            "Mounted at /content/drive\n"
          ]
        }
      ],
      "source": [
        "from google.colab import drive\n",
        "drive.mount('/content/drive')"
      ]
    },
    {
      "cell_type": "code",
      "execution_count": 2,
      "metadata": {
        "id": "vHV9r0-tQSZu"
      },
      "outputs": [],
      "source": [
        "import os\n",
        "os.environ['ARCHIVE_NAME']=\"data.tar.gz\"\n",
        "os.environ[\"REPO_FOLDER\"]=\"bel-tts/\"\n",
        "\n",
        "os.environ['DRIVE_ROOT']=\"/content/drive/MyDrive/\"\n",
        "os.environ[\"RUNTIME_ROOT\"]=\"/content/sample_data/\"\n",
        "\n",
        "os.environ['DRIVE_DATA_ARCHIVE']=os.environ['DRIVE_ROOT'] + os.environ['ARCHIVE_NAME']\n",
        "os.environ[\"RUNTIME_DATA_ARCHIVE\"]=os.environ[\"RUNTIME_ROOT\"] + os.environ[\"ARCHIVE_NAME\"]\n",
        "\n",
        "os.environ[\"RUNTIME_REPO\"]=os.environ[\"RUNTIME_ROOT\"] + os.environ[\"REPO_FOLDER\"]"
      ]
    },
    {
      "cell_type": "code",
      "execution_count": 3,
      "metadata": {
        "colab": {
          "base_uri": "https://localhost:8080/"
        },
        "id": "R7K8TvP-cHBu",
        "outputId": "2e96c764-6b0c-47a5-a8d4-44a6819d61b7"
      },
      "outputs": [],
      "source": [
        "os.chdir(os.environ[\"RUNTIME_ROOT\"])\n",
        "!gdown 1thgrwRJCpwq6qF9au_CkVcmBQJU7cH72\n",
        "if not os.path.exists(\"be/\"):\n",
        "  os.makedirs(\"be/\")\n",
        "!tar -xzf $ARCHIVE_NAME -C \"be\""
      ]
    },
    {
      "cell_type": "code",
      "execution_count": 4,
      "metadata": {
        "colab": {
          "base_uri": "https://localhost:8080/"
        },
        "id": "F2xCqSWnctzQ",
        "outputId": "f44911a3-6a87-4cd5-b8f7-94867fc602fa"
      },
      "outputs": [],
      "source": [
        "os.chdir(os.environ[\"RUNTIME_ROOT\"])\n",
        "!git clone -b main --single-branch https://github.com/jhlfrfufyfn/bel-tts.git"
      ]
    },
    {
      "cell_type": "code",
      "execution_count": 5,
      "metadata": {
        "id": "yjbd1FlYkMty"
      },
      "outputs": [],
      "source": [
        "%%script false\n",
        "%cd ..\n",
        "%rm -rf bel-tts"
      ]
    },
    {
      "cell_type": "code",
      "execution_count": 6,
      "metadata": {
        "colab": {
          "base_uri": "https://localhost:8080/"
        },
        "id": "XgpHxXLBXOZN",
        "outputId": "1be2b9c3-020c-467a-e33d-5161de6259ac"
      },
      "outputs": [
        {
          "name": "stdout",
          "output_type": "stream",
          "text": [
            "/content/sample_data/bel-tts\n"
          ]
        }
      ],
      "source": [
        "%cd /content/sample_data/bel-tts"
      ]
    },
    {
      "cell_type": "code",
      "execution_count": 7,
      "metadata": {
        "id": "EBiCecrIaZmv"
      },
      "outputs": [],
      "source": [
        "%%script false\n",
        "!pip install -e ."
      ]
    },
    {
      "cell_type": "code",
      "execution_count": 8,
      "metadata": {
        "colab": {
          "base_uri": "https://localhost:8080/"
        },
        "id": "PCOglXXUaDPP",
        "outputId": "01d78a04-de34-45de-d56a-f627e6f610ee"
      },
      "outputs": [],
      "source": [
        "# dependencies\n",
        "!make system-deps\n",
        "# install 🐸 TTS for development.\n",
        "!make install"
      ]
    },
    {
      "cell_type": "markdown",
      "metadata": {
        "id": "5LblLez4wt5x"
      },
      "source": [
        "### Training the model"
      ]
    },
    {
      "cell_type": "code",
      "execution_count": null,
      "metadata": {
        "colab": {
          "base_uri": "https://localhost:8080/"
        },
        "id": "RhjbIc6Fwt51",
        "outputId": "da767efb-180f-47a3-b6d5-9438f63f7833"
      },
      "outputs": [],
      "source": [
        "!CUDA_VISIBLE_DEVICES=\"0\" python train-glow.py"
      ]
    }
  ],
  "metadata": {
    "accelerator": "GPU",
    "colab": {
      "collapsed_sections": [],
      "name": "Copy of StartTrainingColab.ipynb",
      "provenance": []
    },
    "kernelspec": {
      "display_name": "Python 3",
      "name": "python3"
    },
    "language_info": {
      "name": "python"
    },
    "orig_nbformat": 4
  },
  "nbformat": 4,
  "nbformat_minor": 0
}
